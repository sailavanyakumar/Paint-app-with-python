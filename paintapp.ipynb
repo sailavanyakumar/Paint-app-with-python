{
 "cells": [
  {
   "cell_type": "code",
   "execution_count": 2,
   "metadata": {},
   "outputs": [
    {
     "name": "stdout",
     "output_type": "stream",
     "text": [
      "Enter brush colorred\n",
      "Enter background color.yellow\n"
     ]
    }
   ],
   "source": [
    "import tkinter\n",
    "main =tkinter.Tk()\n",
    "main.title(\"New Paint App\")\n",
    "main.geometry('600x300')\n",
    "brush=input(\"Enter brush color\")\n",
    "canva=input(\"Enter background color.\")\n",
    "def painter(canvas):\n",
    "    xx,yx,=(canvas.x-3),(canvas.y-3),\n",
    "    xy,yy=(canvas.x+3),(canvas.y+3)\n",
    "\n",
    "    work.create_oval(xx,yx,xy,yy,fill=brush,outline=brush)\n",
    "    \n",
    "\n",
    "    \n",
    "work =tkinter.Canvas(main,width=600,height=300,bg=canva)\n",
    "\n",
    "work.bind(\"<B1-Motion>\",painter)\n",
    "\n",
    "work.pack()\n",
    "\n",
    "main.mainloop()"
   ]
  },
  {
   "cell_type": "code",
   "execution_count": null,
   "metadata": {},
   "outputs": [],
   "source": []
  },
  {
   "cell_type": "code",
   "execution_count": null,
   "metadata": {},
   "outputs": [],
   "source": []
  },
  {
   "cell_type": "code",
   "execution_count": null,
   "metadata": {},
   "outputs": [],
   "source": []
  },
  {
   "cell_type": "code",
   "execution_count": null,
   "metadata": {},
   "outputs": [],
   "source": []
  }
 ],
 "metadata": {
  "kernelspec": {
   "display_name": "Python 3",
   "language": "python",
   "name": "python3"
  },
  "language_info": {
   "codemirror_mode": {
    "name": "ipython",
    "version": 3
   },
   "file_extension": ".py",
   "mimetype": "text/x-python",
   "name": "python",
   "nbconvert_exporter": "python",
   "pygments_lexer": "ipython3",
   "version": "3.7.3"
  }
 },
 "nbformat": 4,
 "nbformat_minor": 2
}
